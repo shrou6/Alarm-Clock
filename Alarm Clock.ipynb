{
 "cells": [
  {
   "cell_type": "markdown",
   "id": "38585310",
   "metadata": {},
   "source": [
    "### Importing required modules\n",
    "\n",
    "- Tkinter module: Helps us to create a window for the user to use the application.\n",
    "- datetime and time modules: Help us to handle dates and time and manipulate them when needed.\n",
    "- winsound module: Helpful to generate sounds for our alarm clock.\n",
    " \n"
   ]
  },
  {
   "cell_type": "code",
   "execution_count": 21,
   "id": "a01a6d24",
   "metadata": {},
   "outputs": [],
   "source": [
    "from tkinter import *\n",
    "import datetime\n",
    "import time\n",
    "import winsound"
   ]
  },
  {
   "cell_type": "markdown",
   "id": "6c5aadfe",
   "metadata": {},
   "source": [
    " ### Creating a function for the alarm"
   ]
  },
  {
   "cell_type": "code",
   "execution_count": 22,
   "id": "a2617fab",
   "metadata": {},
   "outputs": [],
   "source": [
    "def Alarm(set_alarm_timer):\n",
    "    while True:\n",
    "        time.sleep(1)\n",
    "        actual_time = datetime.datetime.now()\n",
    "        cur_time = actual_time.strftime(\"%H:%M:%S\")\n",
    "        cur_date = actual_time.strftime(\"%d/%m/%Y\")\n",
    "        msg=\"Current Time: \"+str(cur_time)\n",
    "        print(msg)\n",
    "        if cur_time == set_alarm_timer:\n",
    "            winsound.PlaySound(\"Music.wav\",winsound.SND_ASYNC)\n",
    "            break\n",
    "            \n",
    "\n"
   ]
  },
  {
   "cell_type": "code",
   "execution_count": 23,
   "id": "83648e39",
   "metadata": {},
   "outputs": [],
   "source": [
    "def get_alarm_time():\n",
    "    alarm_set_time = f\"{hour.get()}:{min.get()}:{sec.get()}\"\n",
    "    Alarm(alarm_set_time)\n",
    " \n"
   ]
  },
  {
   "cell_type": "markdown",
   "id": "a18e4e20",
   "metadata": {},
   "source": [
    "### Creating the Tkinter Window"
   ]
  },
  {
   "cell_type": "code",
   "execution_count": 24,
   "id": "19d3cfc7",
   "metadata": {},
   "outputs": [],
   "source": [
    "window = Tk()\n",
    "window.title(\"Alarm Clock\")\n",
    "window.geometry(\"400x160\")\n",
    "window.config(bg=\"black\")\n",
    "window.resizable(width=False,height=False)\n",
    " \n",
    "time_format=Label(window, text= \"Remember to set time in 24 hour format!\", fg=\"white\",bg=\"black\",font=(\"Arial\",15)).place(x=20,y=120)\n",
    "addTime = Label(window,text = \"Hour     Min     Sec\",font=60,fg=\"white\",bg=\"black\").place(x = 210)\n",
    "setYourAlarm = Label(window,text = \"Set Time for Alarm: \",fg=\"white\",bg=\"black\",relief = \"solid\",font=(\"Helevetica\",15,\"bold\")).place(x=10, y=40)\n",
    " \n",
    "hour = StringVar()\n",
    "min = StringVar()\n",
    "sec = StringVar()\n",
    "\n",
    "\n",
    "\n",
    "hourTime= Entry(window,textvariable = hour,bg = \"#48C9B0\",width = 4,font=(20)).place(x=210,y=40)\n",
    "minTime= Entry(window,textvariable = min,bg = \"#48C9B0\",width = 4,font=(20)).place(x=270,y=40)\n",
    "secTime = Entry(window,textvariable = sec,bg = \"#48C9B0\",width = 4,font=(20)).place(x=330,y=40)\n",
    " \n",
    "submit = Button(window,text = \"Set Your Alarm\",fg=\"Black\",bg=\"orange\",width = 15,command = get_alarm_time,font=(20)).place(x =100,y=80)\n",
    " \n",
    "window.mainloop()"
   ]
  },
  {
   "cell_type": "code",
   "execution_count": null,
   "id": "4966d2c6",
   "metadata": {},
   "outputs": [],
   "source": []
  },
  {
   "cell_type": "code",
   "execution_count": null,
   "id": "076bfd5e",
   "metadata": {},
   "outputs": [],
   "source": []
  }
 ],
 "metadata": {
  "kernelspec": {
   "display_name": "Python 3 (ipykernel)",
   "language": "python",
   "name": "python3"
  },
  "language_info": {
   "codemirror_mode": {
    "name": "ipython",
    "version": 3
   },
   "file_extension": ".py",
   "mimetype": "text/x-python",
   "name": "python",
   "nbconvert_exporter": "python",
   "pygments_lexer": "ipython3",
   "version": "3.9.13"
  }
 },
 "nbformat": 4,
 "nbformat_minor": 5
}
